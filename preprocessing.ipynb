{
 "cells": [
  {
   "cell_type": "code",
   "execution_count": 1,
   "id": "a0a1f784-d92c-48e9-aee2-8368abe216d2",
   "metadata": {},
   "outputs": [],
   "source": [
    "random_state = 16"
   ]
  },
  {
   "cell_type": "markdown",
   "id": "38706aa5-998c-4fcd-a078-bd12303b90de",
   "metadata": {
    "id": "EIwcGufXdktp"
   },
   "source": [
    "## Imports"
   ]
  },
  {
   "cell_type": "code",
   "execution_count": 2,
   "id": "b7b3639e-e072-4d66-bfac-f0000b682487",
   "metadata": {},
   "outputs": [
    {
     "name": "stdout",
     "output_type": "stream",
     "text": [
      "Requirement already satisfied: scikit-learn in /opt/conda/lib/python3.10/site-packages (1.2.2)\n",
      "Requirement already satisfied: xgboost in /opt/conda/lib/python3.10/site-packages (1.7.5)\n",
      "Requirement already satisfied: joblib>=1.1.1 in /opt/conda/lib/python3.10/site-packages (from scikit-learn) (1.2.0)\n",
      "Requirement already satisfied: scipy>=1.3.2 in /opt/conda/lib/python3.10/site-packages (from scikit-learn) (1.10.1)\n",
      "Requirement already satisfied: numpy>=1.17.3 in /opt/conda/lib/python3.10/site-packages (from scikit-learn) (1.24.3)\n",
      "Requirement already satisfied: threadpoolctl>=2.0.0 in /opt/conda/lib/python3.10/site-packages (from scikit-learn) (3.1.0)\n"
     ]
    }
   ],
   "source": [
    "!pip install scikit-learn xgboost "
   ]
  },
  {
   "cell_type": "code",
   "execution_count": 3,
   "id": "980ead34-73f4-4ac1-8771-20af39ebeba1",
   "metadata": {},
   "outputs": [
    {
     "name": "stdout",
     "output_type": "stream",
     "text": [
      "Requirement already satisfied: pandas in /opt/conda/lib/python3.10/site-packages (2.0.1)\n",
      "Requirement already satisfied: numpy in /opt/conda/lib/python3.10/site-packages (1.24.3)\n",
      "Requirement already satisfied: seaborn in /opt/conda/lib/python3.10/site-packages (0.12.2)\n",
      "Requirement already satisfied: matplotlib in /opt/conda/lib/python3.10/site-packages (3.7.1)\n",
      "Requirement already satisfied: yellowbrick in /opt/conda/lib/python3.10/site-packages (1.5)\n",
      "Requirement already satisfied: scipy in /opt/conda/lib/python3.10/site-packages (1.10.1)\n",
      "Requirement already satisfied: tzdata>=2022.1 in /opt/conda/lib/python3.10/site-packages (from pandas) (2023.3)\n",
      "Requirement already satisfied: python-dateutil>=2.8.2 in /opt/conda/lib/python3.10/site-packages (from pandas) (2.8.2)\n",
      "Requirement already satisfied: pytz>=2020.1 in /opt/conda/lib/python3.10/site-packages (from pandas) (2022.6)\n",
      "Requirement already satisfied: kiwisolver>=1.0.1 in /opt/conda/lib/python3.10/site-packages (from matplotlib) (1.4.4)\n",
      "Requirement already satisfied: contourpy>=1.0.1 in /opt/conda/lib/python3.10/site-packages (from matplotlib) (1.0.7)\n",
      "Requirement already satisfied: fonttools>=4.22.0 in /opt/conda/lib/python3.10/site-packages (from matplotlib) (4.39.4)\n",
      "Requirement already satisfied: packaging>=20.0 in /opt/conda/lib/python3.10/site-packages (from matplotlib) (21.3)\n",
      "Requirement already satisfied: pyparsing>=2.3.1 in /opt/conda/lib/python3.10/site-packages (from matplotlib) (3.0.9)\n",
      "Requirement already satisfied: cycler>=0.10 in /opt/conda/lib/python3.10/site-packages (from matplotlib) (0.11.0)\n",
      "Requirement already satisfied: pillow>=6.2.0 in /opt/conda/lib/python3.10/site-packages (from matplotlib) (9.5.0)\n",
      "Requirement already satisfied: scikit-learn>=1.0.0 in /opt/conda/lib/python3.10/site-packages (from yellowbrick) (1.2.2)\n",
      "Requirement already satisfied: six>=1.5 in /opt/conda/lib/python3.10/site-packages (from python-dateutil>=2.8.2->pandas) (1.16.0)\n",
      "Requirement already satisfied: threadpoolctl>=2.0.0 in /opt/conda/lib/python3.10/site-packages (from scikit-learn>=1.0.0->yellowbrick) (3.1.0)\n",
      "Requirement already satisfied: joblib>=1.1.1 in /opt/conda/lib/python3.10/site-packages (from scikit-learn>=1.0.0->yellowbrick) (1.2.0)\n"
     ]
    }
   ],
   "source": [
    "!pip install pandas numpy seaborn matplotlib yellowbrick scipy"
   ]
  },
  {
   "cell_type": "code",
   "execution_count": 4,
   "id": "89a4cda7-7913-4556-859e-7853c9900501",
   "metadata": {
    "id": "JhVnKJYfYc2o",
    "pycharm": {
     "name": "#%%\n"
    }
   },
   "outputs": [],
   "source": [
    "#imports\n",
    "from scipy.stats import uniform as sp_randFloat\n",
    "from scipy.stats import randint as sp_randInt    \n",
    "from sklearn.model_selection import RandomizedSearchCV\n",
    "from sklearn.feature_selection import RFE, RFECV\n",
    "from sklearn.model_selection import cross_val_score\n",
    "from sklearn.model_selection import GroupKFold\n",
    "from scipy.stats import pearsonr\n",
    "from sklearn.model_selection import train_test_split\n",
    "from sklearn.model_selection import GridSearchCV\n",
    "from sklearn.metrics import r2_score, mean_squared_error\n",
    "from sklearn.tree import DecisionTreeRegressor\n",
    "import pandas as pd\n",
    "from sklearn.neighbors import KNeighborsRegressor\n",
    "import matplotlib.pyplot as plt\n",
    "import numpy as np\n",
    "import seaborn as sns\n",
    "from sklearn.linear_model import ElasticNet\n",
    "from sklearn.neural_network import MLPRegressor\n",
    "from sklearn.pipeline import make_pipeline\n",
    "import xgboost as xgb\n",
    "from xgboost import XGBRegressor\n",
    "from sklearn.preprocessing import StandardScaler, MinMaxScaler\n",
    "import matplotlib.pyplot as plt\n",
    "from yellowbrick.regressor import PredictionError, ResidualsPlot\n",
    "from yellowbrick.style import set_palette\n",
    "from yellowbrick.style import rcmod\n",
    "from sklearn.feature_selection import SelectFromModel"
   ]
  },
  {
   "cell_type": "markdown",
   "id": "0e2a78b0-a2ba-41ef-bcb5-7dab6b89d5ca",
   "metadata": {
    "id": "Jrvq_ArEdwjp"
   },
   "source": [
    "## Data Preprocessing"
   ]
  },
  {
   "cell_type": "code",
   "execution_count": 5,
   "id": "f9178d80-6a26-4619-a9e5-4b6199e8eb4a",
   "metadata": {},
   "outputs": [
    {
     "name": "stdout",
     "output_type": "stream",
     "text": [
      "clusters2.csv  mlp_2.png\t\t\t   protherm_groups.csv\n",
      "DTC_P1.png     my_plot.png\t\t\t   protherm.ipynb\n",
      "DTC_P2.png     organisms.png\t\t\t   protherm_test.csv\n",
      "EN_P2.png      p1_xgb.txt\t\t\t   protherm_train.csv\n",
      "esm_1280       p2_xgb.txt\t\t\t   test.csv\n",
      "esm_320        pipeline_1.ipynb\t\t\t   tm_c_count.png\n",
      "esm_meltome    pipeline_2.ipynb\t\t\t   train.csv\n",
      "groups.csv     preprocessing.ipynb\t\t   Untitled.ipynb\n",
      "KNN_P1.png     protherm.csv\t\t\t   XGBoost.ipynb\n",
      "KNN_P2.png     protherm_deep_physchem.csv\t   zero_features.csv\n",
      "mlp_1.png      protherm_deep_physchem_initial.csv  zero_features_p2.csv\n"
     ]
    }
   ],
   "source": [
    "!ls"
   ]
  },
  {
   "cell_type": "code",
   "execution_count": 6,
   "id": "39bbb18c-9a9f-4e33-b7ad-4e0ca8bc51c6",
   "metadata": {
    "colab": {
     "base_uri": "https://localhost:8080/",
     "height": 299
    },
    "id": "ElIyJMgIYc2t",
    "outputId": "9098fb74-551d-446c-ae5d-2d86034ace0c"
   },
   "outputs": [
    {
     "data": {
      "text/html": [
       "<div>\n",
       "<style scoped>\n",
       "    .dataframe tbody tr th:only-of-type {\n",
       "        vertical-align: middle;\n",
       "    }\n",
       "\n",
       "    .dataframe tbody tr th {\n",
       "        vertical-align: top;\n",
       "    }\n",
       "\n",
       "    .dataframe thead th {\n",
       "        text-align: right;\n",
       "    }\n",
       "</style>\n",
       "<table border=\"1\" class=\"dataframe\">\n",
       "  <thead>\n",
       "    <tr style=\"text-align: right;\">\n",
       "      <th></th>\n",
       "      <th>Length</th>\n",
       "      <th>Protein_ID</th>\n",
       "      <th>Tm_C</th>\n",
       "      <th>Sequence</th>\n",
       "      <th>AA</th>\n",
       "      <th>AR</th>\n",
       "      <th>RA</th>\n",
       "      <th>AN</th>\n",
       "      <th>NA</th>\n",
       "      <th>AD</th>\n",
       "      <th>...</th>\n",
       "      <th>de_mul</th>\n",
       "      <th>ivywrel</th>\n",
       "      <th>methyl_groups</th>\n",
       "      <th>tighter_packing</th>\n",
       "      <th>hydrophobic</th>\n",
       "      <th>aromatic</th>\n",
       "      <th>charged</th>\n",
       "      <th>beta_branched</th>\n",
       "      <th>h_bond_form</th>\n",
       "      <th>vip</th>\n",
       "    </tr>\n",
       "  </thead>\n",
       "  <tbody>\n",
       "    <tr>\n",
       "      <th>0</th>\n",
       "      <td>468</td>\n",
       "      <td>P00350</td>\n",
       "      <td>57.83</td>\n",
       "      <td>MSKQQIGVVGMAVMGRNLALNIESRGYTVSIFNRSREKTEEVIAEN...</td>\n",
       "      <td>0.014989</td>\n",
       "      <td>0.002141</td>\n",
       "      <td>0.010707</td>\n",
       "      <td>0.006424</td>\n",
       "      <td>0.000000</td>\n",
       "      <td>0.004283</td>\n",
       "      <td>...</td>\n",
       "      <td>0.004191</td>\n",
       "      <td>0.399573</td>\n",
       "      <td>0.393162</td>\n",
       "      <td>0.279915</td>\n",
       "      <td>0.316239</td>\n",
       "      <td>0.106838</td>\n",
       "      <td>0.232906</td>\n",
       "      <td>0.183761</td>\n",
       "      <td>0.096154</td>\n",
       "      <td>0.170940</td>\n",
       "    </tr>\n",
       "    <tr>\n",
       "      <th>1</th>\n",
       "      <td>602</td>\n",
       "      <td>P00363</td>\n",
       "      <td>46.77</td>\n",
       "      <td>MQTFQADLAIVGAGGAGLRAAIAAAQANPNAKIALISKVYPMRSHT...</td>\n",
       "      <td>0.018303</td>\n",
       "      <td>0.001664</td>\n",
       "      <td>0.004992</td>\n",
       "      <td>0.008319</td>\n",
       "      <td>0.003328</td>\n",
       "      <td>0.008319</td>\n",
       "      <td>...</td>\n",
       "      <td>0.004249</td>\n",
       "      <td>0.362126</td>\n",
       "      <td>0.382060</td>\n",
       "      <td>0.244186</td>\n",
       "      <td>0.302326</td>\n",
       "      <td>0.107973</td>\n",
       "      <td>0.239203</td>\n",
       "      <td>0.166113</td>\n",
       "      <td>0.091362</td>\n",
       "      <td>0.142857</td>\n",
       "    </tr>\n",
       "    <tr>\n",
       "      <th>2</th>\n",
       "      <td>447</td>\n",
       "      <td>P00370</td>\n",
       "      <td>58.78</td>\n",
       "      <td>MDQTYSLESFLNHVQKRDPNQTEFAQAVREVMTTLWPFLEQNPKYR...</td>\n",
       "      <td>0.006726</td>\n",
       "      <td>0.008969</td>\n",
       "      <td>0.002242</td>\n",
       "      <td>0.008969</td>\n",
       "      <td>0.006726</td>\n",
       "      <td>0.006726</td>\n",
       "      <td>...</td>\n",
       "      <td>0.002948</td>\n",
       "      <td>0.351230</td>\n",
       "      <td>0.393736</td>\n",
       "      <td>0.259508</td>\n",
       "      <td>0.333333</td>\n",
       "      <td>0.105145</td>\n",
       "      <td>0.210291</td>\n",
       "      <td>0.170022</td>\n",
       "      <td>0.071588</td>\n",
       "      <td>0.154362</td>\n",
       "    </tr>\n",
       "    <tr>\n",
       "      <th>3</th>\n",
       "      <td>206</td>\n",
       "      <td>P00448</td>\n",
       "      <td>66.59</td>\n",
       "      <td>MSYTLPSLPYAYDALEPHFDKQTMEIHHTKHHQTYVNNANAALESL...</td>\n",
       "      <td>0.034146</td>\n",
       "      <td>0.004878</td>\n",
       "      <td>0.000000</td>\n",
       "      <td>0.019512</td>\n",
       "      <td>0.014634</td>\n",
       "      <td>0.004878</td>\n",
       "      <td>...</td>\n",
       "      <td>0.003676</td>\n",
       "      <td>0.330097</td>\n",
       "      <td>0.364078</td>\n",
       "      <td>0.247573</td>\n",
       "      <td>0.320388</td>\n",
       "      <td>0.155340</td>\n",
       "      <td>0.233010</td>\n",
       "      <td>0.121359</td>\n",
       "      <td>0.063107</td>\n",
       "      <td>0.121359</td>\n",
       "    </tr>\n",
       "    <tr>\n",
       "      <th>4</th>\n",
       "      <td>761</td>\n",
       "      <td>P00452</td>\n",
       "      <td>44.79</td>\n",
       "      <td>MNQNLLVTKRDGSTERINLDKIHRVLDWAAEGLHNVSISQVELRSH...</td>\n",
       "      <td>0.010526</td>\n",
       "      <td>0.001316</td>\n",
       "      <td>0.005263</td>\n",
       "      <td>0.003947</td>\n",
       "      <td>0.003947</td>\n",
       "      <td>0.002632</td>\n",
       "      <td>...</td>\n",
       "      <td>0.004051</td>\n",
       "      <td>0.388962</td>\n",
       "      <td>0.369251</td>\n",
       "      <td>0.239159</td>\n",
       "      <td>0.320631</td>\n",
       "      <td>0.123522</td>\n",
       "      <td>0.235217</td>\n",
       "      <td>0.168200</td>\n",
       "      <td>0.106439</td>\n",
       "      <td>0.157687</td>\n",
       "    </tr>\n",
       "  </tbody>\n",
       "</table>\n",
       "<p>5 rows × 454 columns</p>\n",
       "</div>"
      ],
      "text/plain": [
       "   Length Protein_ID   Tm_C   \n",
       "0     468     P00350  57.83  \\\n",
       "1     602     P00363  46.77   \n",
       "2     447     P00370  58.78   \n",
       "3     206     P00448  66.59   \n",
       "4     761     P00452  44.79   \n",
       "\n",
       "                                            Sequence        AA        AR   \n",
       "0  MSKQQIGVVGMAVMGRNLALNIESRGYTVSIFNRSREKTEEVIAEN...  0.014989  0.002141  \\\n",
       "1  MQTFQADLAIVGAGGAGLRAAIAAAQANPNAKIALISKVYPMRSHT...  0.018303  0.001664   \n",
       "2  MDQTYSLESFLNHVQKRDPNQTEFAQAVREVMTTLWPFLEQNPKYR...  0.006726  0.008969   \n",
       "3  MSYTLPSLPYAYDALEPHFDKQTMEIHHTKHHQTYVNNANAALESL...  0.034146  0.004878   \n",
       "4  MNQNLLVTKRDGSTERINLDKIHRVLDWAAEGLHNVSISQVELRSH...  0.010526  0.001316   \n",
       "\n",
       "         RA        AN        NA        AD  ...    de_mul   ivywrel   \n",
       "0  0.010707  0.006424  0.000000  0.004283  ...  0.004191  0.399573  \\\n",
       "1  0.004992  0.008319  0.003328  0.008319  ...  0.004249  0.362126   \n",
       "2  0.002242  0.008969  0.006726  0.006726  ...  0.002948  0.351230   \n",
       "3  0.000000  0.019512  0.014634  0.004878  ...  0.003676  0.330097   \n",
       "4  0.005263  0.003947  0.003947  0.002632  ...  0.004051  0.388962   \n",
       "\n",
       "   methyl_groups  tighter_packing  hydrophobic  aromatic   charged   \n",
       "0       0.393162         0.279915     0.316239  0.106838  0.232906  \\\n",
       "1       0.382060         0.244186     0.302326  0.107973  0.239203   \n",
       "2       0.393736         0.259508     0.333333  0.105145  0.210291   \n",
       "3       0.364078         0.247573     0.320388  0.155340  0.233010   \n",
       "4       0.369251         0.239159     0.320631  0.123522  0.235217   \n",
       "\n",
       "   beta_branched  h_bond_form       vip  \n",
       "0       0.183761     0.096154  0.170940  \n",
       "1       0.166113     0.091362  0.142857  \n",
       "2       0.170022     0.071588  0.154362  \n",
       "3       0.121359     0.063107  0.121359  \n",
       "4       0.168200     0.106439  0.157687  \n",
       "\n",
       "[5 rows x 454 columns]"
      ]
     },
     "execution_count": 6,
     "metadata": {},
     "output_type": "execute_result"
    }
   ],
   "source": [
    "data_set = pd.read_csv('protherm_deep_physchem_initial.csv')\n",
    "data_set.head()"
   ]
  },
  {
   "cell_type": "code",
   "execution_count": 7,
   "id": "cca02680-59c6-438d-88f2-4f50d6f3e5b7",
   "metadata": {
    "colab": {
     "base_uri": "https://localhost:8080/"
    },
    "id": "SCwRuDUSYc2w",
    "outputId": "4e60c653-282d-4dd4-9a69-1ab6e6ca8c31"
   },
   "outputs": [
    {
     "data": {
      "text/plain": [
       "(6739, 454)"
      ]
     },
     "execution_count": 7,
     "metadata": {},
     "output_type": "execute_result"
    }
   ],
   "source": [
    "data_set.shape"
   ]
  },
  {
   "cell_type": "code",
   "execution_count": 8,
   "id": "b0980361-703a-4de0-99ff-de7de9260eee",
   "metadata": {
    "id": "U784gugpYc2x"
   },
   "outputs": [],
   "source": [
    "data_set = data_set[data_set['Tm_C'] != 0]"
   ]
  },
  {
   "cell_type": "code",
   "execution_count": 9,
   "id": "387072b4-6a90-4071-be36-d4691f493931",
   "metadata": {},
   "outputs": [
    {
     "data": {
      "text/plain": [
       "(6672, 454)"
      ]
     },
     "execution_count": 9,
     "metadata": {},
     "output_type": "execute_result"
    }
   ],
   "source": [
    "data_set.shape"
   ]
  },
  {
   "cell_type": "code",
   "execution_count": 10,
   "id": "24a4b8de-e039-4c29-8228-65fabd5a85b4",
   "metadata": {},
   "outputs": [
    {
     "data": {
      "text/html": [
       "<div>\n",
       "<style scoped>\n",
       "    .dataframe tbody tr th:only-of-type {\n",
       "        vertical-align: middle;\n",
       "    }\n",
       "\n",
       "    .dataframe tbody tr th {\n",
       "        vertical-align: top;\n",
       "    }\n",
       "\n",
       "    .dataframe thead th {\n",
       "        text-align: right;\n",
       "    }\n",
       "</style>\n",
       "<table border=\"1\" class=\"dataframe\">\n",
       "  <thead>\n",
       "    <tr style=\"text-align: right;\">\n",
       "      <th></th>\n",
       "      <th>LENGTH</th>\n",
       "      <th>Protein_ID</th>\n",
       "      <th>Tm_C</th>\n",
       "      <th>Organism</th>\n",
       "    </tr>\n",
       "  </thead>\n",
       "  <tbody>\n",
       "    <tr>\n",
       "      <th>0</th>\n",
       "      <td>468</td>\n",
       "      <td>P00350</td>\n",
       "      <td>57.83</td>\n",
       "      <td>E.coli</td>\n",
       "    </tr>\n",
       "    <tr>\n",
       "      <th>1</th>\n",
       "      <td>602</td>\n",
       "      <td>P00363</td>\n",
       "      <td>46.77</td>\n",
       "      <td>E.coli</td>\n",
       "    </tr>\n",
       "    <tr>\n",
       "      <th>2</th>\n",
       "      <td>447</td>\n",
       "      <td>P00370</td>\n",
       "      <td>58.78</td>\n",
       "      <td>E.coli</td>\n",
       "    </tr>\n",
       "    <tr>\n",
       "      <th>3</th>\n",
       "      <td>206</td>\n",
       "      <td>P00448</td>\n",
       "      <td>66.59</td>\n",
       "      <td>E.coli</td>\n",
       "    </tr>\n",
       "    <tr>\n",
       "      <th>4</th>\n",
       "      <td>761</td>\n",
       "      <td>P00452</td>\n",
       "      <td>44.79</td>\n",
       "      <td>E.coli</td>\n",
       "    </tr>\n",
       "  </tbody>\n",
       "</table>\n",
       "</div>"
      ],
      "text/plain": [
       "   LENGTH Protein_ID   Tm_C Organism\n",
       "0     468     P00350  57.83   E.coli\n",
       "1     602     P00363  46.77   E.coli\n",
       "2     447     P00370  58.78   E.coli\n",
       "3     206     P00448  66.59   E.coli\n",
       "4     761     P00452  44.79   E.coli"
      ]
     },
     "execution_count": 10,
     "metadata": {},
     "output_type": "execute_result"
    }
   ],
   "source": [
    "orgs = pd.read_csv('protherm.csv', encoding='latin1')\n",
    "orgs.head()"
   ]
  },
  {
   "cell_type": "code",
   "execution_count": 11,
   "id": "b0d3da32-f22a-4410-a341-95f91b296767",
   "metadata": {},
   "outputs": [
    {
     "data": {
      "text/plain": [
       "(6672, 3)"
      ]
     },
     "execution_count": 11,
     "metadata": {},
     "output_type": "execute_result"
    }
   ],
   "source": [
    "orgs = orgs[['Organism', 'Protein_ID', 'Tm_C']]\n",
    "orgs = orgs.drop_duplicates(subset = \"Protein_ID\")\n",
    "orgs = pd.merge(orgs, data_set['Protein_ID'], on = \"Protein_ID\")\n",
    "orgs = orgs.dropna()\n",
    "orgs.shape"
   ]
  },
  {
   "cell_type": "code",
   "execution_count": 12,
   "id": "0591b7ca-b2cb-4ded-9afc-4f6b46c320fb",
   "metadata": {},
   "outputs": [
    {
     "data": {
      "text/html": [
       "<div>\n",
       "<style scoped>\n",
       "    .dataframe tbody tr th:only-of-type {\n",
       "        vertical-align: middle;\n",
       "    }\n",
       "\n",
       "    .dataframe tbody tr th {\n",
       "        vertical-align: top;\n",
       "    }\n",
       "\n",
       "    .dataframe thead th {\n",
       "        text-align: right;\n",
       "    }\n",
       "</style>\n",
       "<table border=\"1\" class=\"dataframe\">\n",
       "  <thead>\n",
       "    <tr style=\"text-align: right;\">\n",
       "      <th></th>\n",
       "      <th>Organism</th>\n",
       "      <th>Protein_ID</th>\n",
       "      <th>Tm_C</th>\n",
       "    </tr>\n",
       "  </thead>\n",
       "  <tbody>\n",
       "    <tr>\n",
       "      <th>0</th>\n",
       "      <td>E.coli</td>\n",
       "      <td>P00350</td>\n",
       "      <td>57.83</td>\n",
       "    </tr>\n",
       "    <tr>\n",
       "      <th>1</th>\n",
       "      <td>E.coli</td>\n",
       "      <td>P00363</td>\n",
       "      <td>46.77</td>\n",
       "    </tr>\n",
       "    <tr>\n",
       "      <th>2</th>\n",
       "      <td>E.coli</td>\n",
       "      <td>P00370</td>\n",
       "      <td>58.78</td>\n",
       "    </tr>\n",
       "    <tr>\n",
       "      <th>3</th>\n",
       "      <td>E.coli</td>\n",
       "      <td>P00448</td>\n",
       "      <td>66.59</td>\n",
       "    </tr>\n",
       "    <tr>\n",
       "      <th>4</th>\n",
       "      <td>E.coli</td>\n",
       "      <td>P00452</td>\n",
       "      <td>44.79</td>\n",
       "    </tr>\n",
       "  </tbody>\n",
       "</table>\n",
       "</div>"
      ],
      "text/plain": [
       "  Organism Protein_ID   Tm_C\n",
       "0   E.coli     P00350  57.83\n",
       "1   E.coli     P00363  46.77\n",
       "2   E.coli     P00370  58.78\n",
       "3   E.coli     P00448  66.59\n",
       "4   E.coli     P00452  44.79"
      ]
     },
     "execution_count": 12,
     "metadata": {},
     "output_type": "execute_result"
    }
   ],
   "source": [
    "orgs.head()"
   ]
  },
  {
   "cell_type": "code",
   "execution_count": 13,
   "id": "7194286d-9b38-48dc-abe3-8a4b2f20a8d8",
   "metadata": {},
   "outputs": [
    {
     "data": {
      "image/png": "[encoded data removed]",
      "text/plain": [
       "<Figure size 715.125x500 with 1 Axes>"
      ]
     },
     "metadata": {},
     "output_type": "display_data"
    }
   ],
   "source": [
    "sns.displot(orgs, x=\"Tm_C\", hue=\"Organism\", kind=\"kde\", fill=True)\n",
    "plt.rcParams[\"axes.edgecolor\"] = 'black'\n",
    "plt.grid(False)\n",
    "plt.ylabel('Density', fontweight='bold')\n",
    "plt.xlabel('Tm', fontweight='bold')\n",
    "plt.xticks(range(30, 100, 10))\n",
    "plt.tick_params(axis=\"x\", direction=\"out\", length = 5, color = 'black')\n",
    "plt.tick_params(axis=\"y\", direction=\"out\", length = 5, color = 'black')\n",
    "plt.savefig('organisms.png')\n",
    "plt.show()"
   ]
  },
  {
   "cell_type": "code",
   "execution_count": 14,
   "id": "baeafe36-ae34-4795-a237-31c5ff428b27",
   "metadata": {},
   "outputs": [
    {
     "data": {
      "text/plain": [
       "(6672, 454)"
      ]
     },
     "execution_count": 14,
     "metadata": {},
     "output_type": "execute_result"
    }
   ],
   "source": [
    "data_set.shape"
   ]
  },
  {
   "cell_type": "code",
   "execution_count": 15,
   "id": "78bbd6b3-8d52-4f9b-8fac-7ae359f2e8d1",
   "metadata": {
    "colab": {
     "base_uri": "https://localhost:8080/",
     "height": 361
    },
    "id": "IVs7bY2yYc2y",
    "outputId": "fe497041-1cb8-43e0-b739-db0114f29d39"
   },
   "outputs": [
    {
     "data": {
      "image/png": "[encoded data removed]",
      "text/plain": [
       "<Figure size 800x550 with 1 Axes>"
      ]
     },
     "metadata": {},
     "output_type": "display_data"
    }
   ],
   "source": [
    "fig = plt.figure()\n",
    "ax = fig.gca()\n",
    "plt.rcParams[\"axes.edgecolor\"] = 'black'\n",
    "plt.grid(False)\n",
    "plt.ylabel('Count', fontweight='bold')\n",
    "plt.xlabel('Tm', fontweight='bold')\n",
    "plt.xticks(range(30, 120, 10))\n",
    "ax.tick_params(axis=\"x\", direction=\"out\", length = 5, color = 'black')\n",
    "ax.tick_params(axis=\"y\", direction=\"out\", length = 5, color = 'black')\n",
    "sns.histplot(data=data_set, x='Tm_C')\n",
    "\n",
    "plt.savefig('tm_c_count.png')\n",
    "plt.show()"
   ]
  },
  {
   "cell_type": "markdown",
   "id": "e9b82217-649d-4e25-8aa4-c9720826a9a7",
   "metadata": {},
   "source": [
    "## Excluding highly correlated features"
   ]
  },
  {
   "cell_type": "code",
   "execution_count": 16,
   "id": "c5ea8bbb-7512-4bef-ab1e-63226e5ca53c",
   "metadata": {
    "colab": {
     "base_uri": "https://localhost:8080/"
    },
    "id": "dudnGQMgYc22",
    "outputId": "998b9e3f-cef1-4f48-9743-5062546c4912",
    "pycharm": {
     "name": "#%%\n"
    }
   },
   "outputs": [
    {
     "name": "stdout",
     "output_type": "stream",
     "text": [
      "(6672, 449)\n",
      "excluded correlated features:  {'number_of_AA_TMHs', 'molecular_weight', 'charged', 'aromatic', 'epsilon_with_disulfide'}\n"
     ]
    }
   ],
   "source": [
    "correlation_boundary = 0.9\n",
    "def find_correlated_features(X, boundary):\n",
    "    correlated_features = set()\n",
    "    correlation = X.corr(method='pearson')\n",
    "\n",
    "    for i in range(len(correlation.columns)):\n",
    "        for j in range(i):\n",
    "            if correlation.iloc[i, j] > boundary and correlation.iloc[i, j] != 1:\n",
    "                column_name = correlation.columns[i]\n",
    "                correlated_features.add(column_name)\n",
    "    return correlated_features\n",
    "correlated_features = find_correlated_features(data_set.drop(['Protein_ID', 'Sequence', 'Tm_C'], axis = 1), correlation_boundary)\n",
    "data_set = data_set.drop(columns=correlated_features, axis=1).copy()\n",
    "\n",
    "print(data_set.shape)\n",
    "\n",
    "print(\"excluded correlated features: \", correlated_features)"
   ]
  },
  {
   "cell_type": "code",
   "execution_count": 17,
   "id": "d83c83f8-1b6d-47ca-b8d0-aed853ee4ccd",
   "metadata": {
    "id": "AMQM3I9KYc24",
    "pycharm": {
     "name": "#%%\n"
    }
   },
   "outputs": [],
   "source": [
    "data_set['kr_ratio'] = data_set['kr_ratio'].fillna(0)"
   ]
  },
  {
   "cell_type": "code",
   "execution_count": 18,
   "id": "e50c390b-21af-415e-adca-bf533002e6f1",
   "metadata": {
    "colab": {
     "base_uri": "https://localhost:8080/"
    },
    "id": "u3rbKTdMYc24",
    "outputId": "f70b3ca5-d357-44fc-ef7c-f9506eadf9bf"
   },
   "outputs": [
    {
     "data": {
      "text/plain": [
       "(6672, 449)"
      ]
     },
     "execution_count": 18,
     "metadata": {},
     "output_type": "execute_result"
    }
   ],
   "source": [
    "data_set.shape"
   ]
  },
  {
   "cell_type": "code",
   "execution_count": 19,
   "id": "d6155370-ab7e-462a-9b80-ac2e6b7c244b",
   "metadata": {
    "id": "Ov-8LNYqYc25"
   },
   "outputs": [],
   "source": [
    "data_set = data_set.reset_index(drop = True)"
   ]
  },
  {
   "cell_type": "markdown",
   "id": "ef9d3625-05b1-4fda-91b3-a1df5522f435",
   "metadata": {
    "id": "UnIJu5RWd1RM"
   },
   "source": [
    "## Clusterization"
   ]
  },
  {
   "cell_type": "code",
   "execution_count": 20,
   "id": "85abba62-320d-4cfc-9211-6e40bfc195b3",
   "metadata": {
    "colab": {
     "base_uri": "https://localhost:8080/",
     "height": 206
    },
    "id": "eOp6-NXAYc27",
    "outputId": "cbfe8cf6-07fa-4ad5-e2d0-0bc5dd693cf1"
   },
   "outputs": [
    {
     "data": {
      "text/html": [
       "<div>\n",
       "<style scoped>\n",
       "    .dataframe tbody tr th:only-of-type {\n",
       "        vertical-align: middle;\n",
       "    }\n",
       "\n",
       "    .dataframe tbody tr th {\n",
       "        vertical-align: top;\n",
       "    }\n",
       "\n",
       "    .dataframe thead th {\n",
       "        text-align: right;\n",
       "    }\n",
       "</style>\n",
       "<table border=\"1\" class=\"dataframe\">\n",
       "  <thead>\n",
       "    <tr style=\"text-align: right;\">\n",
       "      <th></th>\n",
       "      <th>cluster#</th>\n",
       "      <th>Protein_ID</th>\n",
       "    </tr>\n",
       "  </thead>\n",
       "  <tbody>\n",
       "    <tr>\n",
       "      <th>0</th>\n",
       "      <td>0</td>\n",
       "      <td>P00363</td>\n",
       "    </tr>\n",
       "    <tr>\n",
       "      <th>1</th>\n",
       "      <td>1</td>\n",
       "      <td>P00370</td>\n",
       "    </tr>\n",
       "    <tr>\n",
       "      <th>2</th>\n",
       "      <td>2</td>\n",
       "      <td>P00509</td>\n",
       "    </tr>\n",
       "    <tr>\n",
       "      <th>3</th>\n",
       "      <td>3</td>\n",
       "      <td>P00582</td>\n",
       "    </tr>\n",
       "    <tr>\n",
       "      <th>4</th>\n",
       "      <td>4</td>\n",
       "      <td>P00634</td>\n",
       "    </tr>\n",
       "  </tbody>\n",
       "</table>\n",
       "</div>"
      ],
      "text/plain": [
       "   cluster# Protein_ID\n",
       "0         0     P00363\n",
       "1         1     P00370\n",
       "2         2     P00509\n",
       "3         3     P00582\n",
       "4         4     P00634"
      ]
     },
     "execution_count": 20,
     "metadata": {},
     "output_type": "execute_result"
    }
   ],
   "source": [
    "clusters = pd.read_csv('clusters2.csv', index_col = 0)\n",
    "clusters.head()"
   ]
  },
  {
   "cell_type": "code",
   "execution_count": 21,
   "id": "f15f9154-b53b-4214-bde5-2205477f16ed",
   "metadata": {
    "colab": {
     "base_uri": "https://localhost:8080/"
    },
    "id": "5eMFYZdgYc28",
    "outputId": "ed56ce2d-e813-42be-e572-0ffc921a5ee5"
   },
   "outputs": [
    {
     "data": {
      "text/plain": [
       "((6672, 449), (6672, 2))"
      ]
     },
     "execution_count": 21,
     "metadata": {},
     "output_type": "execute_result"
    }
   ],
   "source": [
    "data_set.shape, clusters.shape"
   ]
  },
  {
   "cell_type": "code",
   "execution_count": 22,
   "id": "228f4dac-098c-419e-a62b-8e8b68681aea",
   "metadata": {
    "colab": {
     "base_uri": "https://localhost:8080/"
    },
    "id": "OeIsl5wDYc29",
    "outputId": "663b376f-bbb5-45db-ba23-16b88dcc6415"
   },
   "outputs": [
    {
     "data": {
      "text/plain": [
       "(6672, 450)"
      ]
     },
     "execution_count": 22,
     "metadata": {},
     "output_type": "execute_result"
    }
   ],
   "source": [
    "data_set = pd.merge(data_set, clusters, on = 'Protein_ID')\n",
    "data_set.shape"
   ]
  },
  {
   "cell_type": "code",
   "execution_count": 23,
   "id": "6a9675c7-5988-4cf8-ae52-8ca544a1396f",
   "metadata": {
    "colab": {
     "base_uri": "https://localhost:8080/",
     "height": 299
    },
    "id": "zvBNDwDGYc29",
    "outputId": "c68c9adc-cd35-41b3-d6fa-3c120fe4bb53"
   },
   "outputs": [
    {
     "data": {
      "text/html": [
       "<div>\n",
       "<style scoped>\n",
       "    .dataframe tbody tr th:only-of-type {\n",
       "        vertical-align: middle;\n",
       "    }\n",
       "\n",
       "    .dataframe tbody tr th {\n",
       "        vertical-align: top;\n",
       "    }\n",
       "\n",
       "    .dataframe thead th {\n",
       "        text-align: right;\n",
       "    }\n",
       "</style>\n",
       "<table border=\"1\" class=\"dataframe\">\n",
       "  <thead>\n",
       "    <tr style=\"text-align: right;\">\n",
       "      <th></th>\n",
       "      <th>Length</th>\n",
       "      <th>Protein_ID</th>\n",
       "      <th>Tm_C</th>\n",
       "      <th>Sequence</th>\n",
       "      <th>AA</th>\n",
       "      <th>AR</th>\n",
       "      <th>RA</th>\n",
       "      <th>AN</th>\n",
       "      <th>NA</th>\n",
       "      <th>AD</th>\n",
       "      <th>...</th>\n",
       "      <th>oxidized-reduced</th>\n",
       "      <th>de_mul</th>\n",
       "      <th>ivywrel</th>\n",
       "      <th>methyl_groups</th>\n",
       "      <th>tighter_packing</th>\n",
       "      <th>hydrophobic</th>\n",
       "      <th>beta_branched</th>\n",
       "      <th>h_bond_form</th>\n",
       "      <th>vip</th>\n",
       "      <th>cluster#</th>\n",
       "    </tr>\n",
       "  </thead>\n",
       "  <tbody>\n",
       "    <tr>\n",
       "      <th>0</th>\n",
       "      <td>468</td>\n",
       "      <td>P00350</td>\n",
       "      <td>57.83</td>\n",
       "      <td>MSKQQIGVVGMAVMGRNLALNIESRGYTVSIFNRSREKTEEVIAEN...</td>\n",
       "      <td>0.014989</td>\n",
       "      <td>0.002141</td>\n",
       "      <td>0.010707</td>\n",
       "      <td>0.006424</td>\n",
       "      <td>0.000000</td>\n",
       "      <td>0.004283</td>\n",
       "      <td>...</td>\n",
       "      <td>125</td>\n",
       "      <td>0.004191</td>\n",
       "      <td>0.399573</td>\n",
       "      <td>0.393162</td>\n",
       "      <td>0.279915</td>\n",
       "      <td>0.316239</td>\n",
       "      <td>0.183761</td>\n",
       "      <td>0.096154</td>\n",
       "      <td>0.170940</td>\n",
       "      <td>3092</td>\n",
       "    </tr>\n",
       "    <tr>\n",
       "      <th>1</th>\n",
       "      <td>602</td>\n",
       "      <td>P00363</td>\n",
       "      <td>46.77</td>\n",
       "      <td>MQTFQADLAIVGAGGAGLRAAIAAAQANPNAKIALISKVYPMRSHT...</td>\n",
       "      <td>0.018303</td>\n",
       "      <td>0.001664</td>\n",
       "      <td>0.004992</td>\n",
       "      <td>0.008319</td>\n",
       "      <td>0.003328</td>\n",
       "      <td>0.008319</td>\n",
       "      <td>...</td>\n",
       "      <td>625</td>\n",
       "      <td>0.004249</td>\n",
       "      <td>0.362126</td>\n",
       "      <td>0.382060</td>\n",
       "      <td>0.244186</td>\n",
       "      <td>0.302326</td>\n",
       "      <td>0.166113</td>\n",
       "      <td>0.091362</td>\n",
       "      <td>0.142857</td>\n",
       "      <td>0</td>\n",
       "    </tr>\n",
       "    <tr>\n",
       "      <th>2</th>\n",
       "      <td>447</td>\n",
       "      <td>P00370</td>\n",
       "      <td>58.78</td>\n",
       "      <td>MDQTYSLESFLNHVQKRDPNQTEFAQAVREVMTTLWPFLEQNPKYR...</td>\n",
       "      <td>0.006726</td>\n",
       "      <td>0.008969</td>\n",
       "      <td>0.002242</td>\n",
       "      <td>0.008969</td>\n",
       "      <td>0.006726</td>\n",
       "      <td>0.006726</td>\n",
       "      <td>...</td>\n",
       "      <td>250</td>\n",
       "      <td>0.002948</td>\n",
       "      <td>0.351230</td>\n",
       "      <td>0.393736</td>\n",
       "      <td>0.259508</td>\n",
       "      <td>0.333333</td>\n",
       "      <td>0.170022</td>\n",
       "      <td>0.071588</td>\n",
       "      <td>0.154362</td>\n",
       "      <td>1</td>\n",
       "    </tr>\n",
       "    <tr>\n",
       "      <th>3</th>\n",
       "      <td>206</td>\n",
       "      <td>P00448</td>\n",
       "      <td>66.59</td>\n",
       "      <td>MSYTLPSLPYAYDALEPHFDKQTMEIHHTKHHQTYVNNANAALESL...</td>\n",
       "      <td>0.034146</td>\n",
       "      <td>0.004878</td>\n",
       "      <td>0.000000</td>\n",
       "      <td>0.019512</td>\n",
       "      <td>0.014634</td>\n",
       "      <td>0.004878</td>\n",
       "      <td>...</td>\n",
       "      <td>0</td>\n",
       "      <td>0.003676</td>\n",
       "      <td>0.330097</td>\n",
       "      <td>0.364078</td>\n",
       "      <td>0.247573</td>\n",
       "      <td>0.320388</td>\n",
       "      <td>0.121359</td>\n",
       "      <td>0.063107</td>\n",
       "      <td>0.121359</td>\n",
       "      <td>734</td>\n",
       "    </tr>\n",
       "    <tr>\n",
       "      <th>4</th>\n",
       "      <td>761</td>\n",
       "      <td>P00452</td>\n",
       "      <td>44.79</td>\n",
       "      <td>MNQNLLVTKRDGSTERINLDKIHRVLDWAAEGLHNVSISQVELRSH...</td>\n",
       "      <td>0.010526</td>\n",
       "      <td>0.001316</td>\n",
       "      <td>0.005263</td>\n",
       "      <td>0.003947</td>\n",
       "      <td>0.003947</td>\n",
       "      <td>0.002632</td>\n",
       "      <td>...</td>\n",
       "      <td>625</td>\n",
       "      <td>0.004051</td>\n",
       "      <td>0.388962</td>\n",
       "      <td>0.369251</td>\n",
       "      <td>0.239159</td>\n",
       "      <td>0.320631</td>\n",
       "      <td>0.168200</td>\n",
       "      <td>0.106439</td>\n",
       "      <td>0.157687</td>\n",
       "      <td>3093</td>\n",
       "    </tr>\n",
       "  </tbody>\n",
       "</table>\n",
       "<p>5 rows × 450 columns</p>\n",
       "</div>"
      ],
      "text/plain": [
       "   Length Protein_ID   Tm_C   \n",
       "0     468     P00350  57.83  \\\n",
       "1     602     P00363  46.77   \n",
       "2     447     P00370  58.78   \n",
       "3     206     P00448  66.59   \n",
       "4     761     P00452  44.79   \n",
       "\n",
       "                                            Sequence        AA        AR   \n",
       "0  MSKQQIGVVGMAVMGRNLALNIESRGYTVSIFNRSREKTEEVIAEN...  0.014989  0.002141  \\\n",
       "1  MQTFQADLAIVGAGGAGLRAAIAAAQANPNAKIALISKVYPMRSHT...  0.018303  0.001664   \n",
       "2  MDQTYSLESFLNHVQKRDPNQTEFAQAVREVMTTLWPFLEQNPKYR...  0.006726  0.008969   \n",
       "3  MSYTLPSLPYAYDALEPHFDKQTMEIHHTKHHQTYVNNANAALESL...  0.034146  0.004878   \n",
       "4  MNQNLLVTKRDGSTERINLDKIHRVLDWAAEGLHNVSISQVELRSH...  0.010526  0.001316   \n",
       "\n",
       "         RA        AN        NA        AD  ...  oxidized-reduced    de_mul   \n",
       "0  0.010707  0.006424  0.000000  0.004283  ...               125  0.004191  \\\n",
       "1  0.004992  0.008319  0.003328  0.008319  ...               625  0.004249   \n",
       "2  0.002242  0.008969  0.006726  0.006726  ...               250  0.002948   \n",
       "3  0.000000  0.019512  0.014634  0.004878  ...                 0  0.003676   \n",
       "4  0.005263  0.003947  0.003947  0.002632  ...               625  0.004051   \n",
       "\n",
       "    ivywrel  methyl_groups  tighter_packing  hydrophobic  beta_branched   \n",
       "0  0.399573       0.393162         0.279915     0.316239       0.183761  \\\n",
       "1  0.362126       0.382060         0.244186     0.302326       0.166113   \n",
       "2  0.351230       0.393736         0.259508     0.333333       0.170022   \n",
       "3  0.330097       0.364078         0.247573     0.320388       0.121359   \n",
       "4  0.388962       0.369251         0.239159     0.320631       0.168200   \n",
       "\n",
       "   h_bond_form       vip  cluster#  \n",
       "0     0.096154  0.170940      3092  \n",
       "1     0.091362  0.142857         0  \n",
       "2     0.071588  0.154362         1  \n",
       "3     0.063107  0.121359       734  \n",
       "4     0.106439  0.157687      3093  \n",
       "\n",
       "[5 rows x 450 columns]"
      ]
     },
     "execution_count": 23,
     "metadata": {},
     "output_type": "execute_result"
    }
   ],
   "source": [
    "data_set.head()"
   ]
  },
  {
   "cell_type": "code",
   "execution_count": 24,
   "id": "f08508af-ac1e-47b2-ba52-15933655dad0",
   "metadata": {
    "id": "ZsCs7MCGYc2-"
   },
   "outputs": [],
   "source": [
    "data_set = data_set.drop(columns=['Protein_ID','Sequence'], axis=1).copy()\n"
   ]
  },
  {
   "cell_type": "code",
   "execution_count": 25,
   "id": "e78a82f9-7dcd-4677-9c90-75a8612543ad",
   "metadata": {},
   "outputs": [
    {
     "data": {
      "text/plain": [
       "(6672, 448)"
      ]
     },
     "execution_count": 25,
     "metadata": {},
     "output_type": "execute_result"
    }
   ],
   "source": [
    "data_set.shape"
   ]
  },
  {
   "cell_type": "code",
   "execution_count": 26,
   "id": "30c3bb61-3962-4296-b7eb-9abfd2543a58",
   "metadata": {
    "id": "-_Zt0lW9Yc2-"
   },
   "outputs": [],
   "source": [
    "X = data_set.drop(columns=['Tm_C', 'cluster#'], axis=1).copy()\n",
    "y = data_set['Tm_C'].copy()"
   ]
  },
  {
   "cell_type": "code",
   "execution_count": 27,
   "id": "b39b15c3-1b23-425b-a881-f5edd392a611",
   "metadata": {
    "colab": {
     "base_uri": "https://localhost:8080/"
    },
    "id": "PBNwmUp_Yc2_",
    "outputId": "d9d9f2ac-c84a-4b2b-ff1a-b95389d98d0a"
   },
   "outputs": [
    {
     "name": "stdout",
     "output_type": "stream",
     "text": [
      "Total number of different clusters: 5778\n"
     ]
    }
   ],
   "source": [
    "groups = data_set['cluster#']\n",
    "print('Total number of different clusters: {}'.format(max(groups)))"
   ]
  },
  {
   "cell_type": "code",
   "execution_count": 28,
   "id": "49c645b6-fdfc-48cb-99ed-9a1f453d84b8",
   "metadata": {
    "colab": {
     "base_uri": "https://localhost:8080/",
     "height": 299
    },
    "id": "2-5vhelHYc2_",
    "outputId": "ef912c48-1a3a-43c4-f1f7-d3c63a983a0c"
   },
   "outputs": [
    {
     "data": {
      "text/html": [
       "<div>\n",
       "<style scoped>\n",
       "    .dataframe tbody tr th:only-of-type {\n",
       "        vertical-align: middle;\n",
       "    }\n",
       "\n",
       "    .dataframe tbody tr th {\n",
       "        vertical-align: top;\n",
       "    }\n",
       "\n",
       "    .dataframe thead th {\n",
       "        text-align: right;\n",
       "    }\n",
       "</style>\n",
       "<table border=\"1\" class=\"dataframe\">\n",
       "  <thead>\n",
       "    <tr style=\"text-align: right;\">\n",
       "      <th></th>\n",
       "      <th>Length</th>\n",
       "      <th>Tm_C</th>\n",
       "      <th>AA</th>\n",
       "      <th>AR</th>\n",
       "      <th>RA</th>\n",
       "      <th>AN</th>\n",
       "      <th>NA</th>\n",
       "      <th>AD</th>\n",
       "      <th>DA</th>\n",
       "      <th>AC</th>\n",
       "      <th>...</th>\n",
       "      <th>oxidized-reduced</th>\n",
       "      <th>de_mul</th>\n",
       "      <th>ivywrel</th>\n",
       "      <th>methyl_groups</th>\n",
       "      <th>tighter_packing</th>\n",
       "      <th>hydrophobic</th>\n",
       "      <th>beta_branched</th>\n",
       "      <th>h_bond_form</th>\n",
       "      <th>vip</th>\n",
       "      <th>cluster#</th>\n",
       "    </tr>\n",
       "  </thead>\n",
       "  <tbody>\n",
       "    <tr>\n",
       "      <th>0</th>\n",
       "      <td>468</td>\n",
       "      <td>57.83</td>\n",
       "      <td>0.014989</td>\n",
       "      <td>0.002141</td>\n",
       "      <td>0.010707</td>\n",
       "      <td>0.006424</td>\n",
       "      <td>0.000000</td>\n",
       "      <td>0.004283</td>\n",
       "      <td>0.004283</td>\n",
       "      <td>0.000000</td>\n",
       "      <td>...</td>\n",
       "      <td>125</td>\n",
       "      <td>0.004191</td>\n",
       "      <td>0.399573</td>\n",
       "      <td>0.393162</td>\n",
       "      <td>0.279915</td>\n",
       "      <td>0.316239</td>\n",
       "      <td>0.183761</td>\n",
       "      <td>0.096154</td>\n",
       "      <td>0.170940</td>\n",
       "      <td>3092</td>\n",
       "    </tr>\n",
       "    <tr>\n",
       "      <th>1</th>\n",
       "      <td>602</td>\n",
       "      <td>46.77</td>\n",
       "      <td>0.018303</td>\n",
       "      <td>0.001664</td>\n",
       "      <td>0.004992</td>\n",
       "      <td>0.008319</td>\n",
       "      <td>0.003328</td>\n",
       "      <td>0.008319</td>\n",
       "      <td>0.003328</td>\n",
       "      <td>0.000000</td>\n",
       "      <td>...</td>\n",
       "      <td>625</td>\n",
       "      <td>0.004249</td>\n",
       "      <td>0.362126</td>\n",
       "      <td>0.382060</td>\n",
       "      <td>0.244186</td>\n",
       "      <td>0.302326</td>\n",
       "      <td>0.166113</td>\n",
       "      <td>0.091362</td>\n",
       "      <td>0.142857</td>\n",
       "      <td>0</td>\n",
       "    </tr>\n",
       "    <tr>\n",
       "      <th>2</th>\n",
       "      <td>447</td>\n",
       "      <td>58.78</td>\n",
       "      <td>0.006726</td>\n",
       "      <td>0.008969</td>\n",
       "      <td>0.002242</td>\n",
       "      <td>0.008969</td>\n",
       "      <td>0.006726</td>\n",
       "      <td>0.006726</td>\n",
       "      <td>0.006726</td>\n",
       "      <td>0.004484</td>\n",
       "      <td>...</td>\n",
       "      <td>250</td>\n",
       "      <td>0.002948</td>\n",
       "      <td>0.351230</td>\n",
       "      <td>0.393736</td>\n",
       "      <td>0.259508</td>\n",
       "      <td>0.333333</td>\n",
       "      <td>0.170022</td>\n",
       "      <td>0.071588</td>\n",
       "      <td>0.154362</td>\n",
       "      <td>1</td>\n",
       "    </tr>\n",
       "    <tr>\n",
       "      <th>3</th>\n",
       "      <td>206</td>\n",
       "      <td>66.59</td>\n",
       "      <td>0.034146</td>\n",
       "      <td>0.004878</td>\n",
       "      <td>0.000000</td>\n",
       "      <td>0.019512</td>\n",
       "      <td>0.014634</td>\n",
       "      <td>0.004878</td>\n",
       "      <td>0.004878</td>\n",
       "      <td>0.000000</td>\n",
       "      <td>...</td>\n",
       "      <td>0</td>\n",
       "      <td>0.003676</td>\n",
       "      <td>0.330097</td>\n",
       "      <td>0.364078</td>\n",
       "      <td>0.247573</td>\n",
       "      <td>0.320388</td>\n",
       "      <td>0.121359</td>\n",
       "      <td>0.063107</td>\n",
       "      <td>0.121359</td>\n",
       "      <td>734</td>\n",
       "    </tr>\n",
       "    <tr>\n",
       "      <th>4</th>\n",
       "      <td>761</td>\n",
       "      <td>44.79</td>\n",
       "      <td>0.010526</td>\n",
       "      <td>0.001316</td>\n",
       "      <td>0.005263</td>\n",
       "      <td>0.003947</td>\n",
       "      <td>0.003947</td>\n",
       "      <td>0.002632</td>\n",
       "      <td>0.007895</td>\n",
       "      <td>0.003947</td>\n",
       "      <td>...</td>\n",
       "      <td>625</td>\n",
       "      <td>0.004051</td>\n",
       "      <td>0.388962</td>\n",
       "      <td>0.369251</td>\n",
       "      <td>0.239159</td>\n",
       "      <td>0.320631</td>\n",
       "      <td>0.168200</td>\n",
       "      <td>0.106439</td>\n",
       "      <td>0.157687</td>\n",
       "      <td>3093</td>\n",
       "    </tr>\n",
       "  </tbody>\n",
       "</table>\n",
       "<p>5 rows × 448 columns</p>\n",
       "</div>"
      ],
      "text/plain": [
       "   Length   Tm_C        AA        AR        RA        AN        NA        AD   \n",
       "0     468  57.83  0.014989  0.002141  0.010707  0.006424  0.000000  0.004283  \\\n",
       "1     602  46.77  0.018303  0.001664  0.004992  0.008319  0.003328  0.008319   \n",
       "2     447  58.78  0.006726  0.008969  0.002242  0.008969  0.006726  0.006726   \n",
       "3     206  66.59  0.034146  0.004878  0.000000  0.019512  0.014634  0.004878   \n",
       "4     761  44.79  0.010526  0.001316  0.005263  0.003947  0.003947  0.002632   \n",
       "\n",
       "         DA        AC  ...  oxidized-reduced    de_mul   ivywrel   \n",
       "0  0.004283  0.000000  ...               125  0.004191  0.399573  \\\n",
       "1  0.003328  0.000000  ...               625  0.004249  0.362126   \n",
       "2  0.006726  0.004484  ...               250  0.002948  0.351230   \n",
       "3  0.004878  0.000000  ...                 0  0.003676  0.330097   \n",
       "4  0.007895  0.003947  ...               625  0.004051  0.388962   \n",
       "\n",
       "   methyl_groups  tighter_packing  hydrophobic  beta_branched  h_bond_form   \n",
       "0       0.393162         0.279915     0.316239       0.183761     0.096154  \\\n",
       "1       0.382060         0.244186     0.302326       0.166113     0.091362   \n",
       "2       0.393736         0.259508     0.333333       0.170022     0.071588   \n",
       "3       0.364078         0.247573     0.320388       0.121359     0.063107   \n",
       "4       0.369251         0.239159     0.320631       0.168200     0.106439   \n",
       "\n",
       "        vip  cluster#  \n",
       "0  0.170940      3092  \n",
       "1  0.142857         0  \n",
       "2  0.154362         1  \n",
       "3  0.121359       734  \n",
       "4  0.157687      3093  \n",
       "\n",
       "[5 rows x 448 columns]"
      ]
     },
     "execution_count": 28,
     "metadata": {},
     "output_type": "execute_result"
    }
   ],
   "source": [
    "data_set.head()"
   ]
  },
  {
   "cell_type": "code",
   "execution_count": 29,
   "id": "8b832e1f-eb97-4600-97e1-f1616ac47073",
   "metadata": {
    "colab": {
     "base_uri": "https://localhost:8080/"
    },
    "id": "RF4jWDg_Yc3A",
    "outputId": "4ff08950-84dd-4e8c-b42d-c4644e921096"
   },
   "outputs": [
    {
     "name": "stdout",
     "output_type": "stream",
     "text": [
      "[   0    1    2 ... 6669 6670 6671] [   8   14   17 ... 6654 6661 6667]\n",
      "[   0    1    2 ... 6669 6670 6671] [   6    9   23 ... 6656 6662 6668]\n",
      "[   2    4    5 ... 6669 6670 6671] [   0    1    3 ... 6655 6657 6663]\n",
      "[   0    1    3 ... 6668 6669 6670] [   2    5    7 ... 6660 6664 6671]\n",
      "[   0    1    2 ... 6667 6668 6671] [   4   16   18 ... 6666 6669 6670]\n"
     ]
    }
   ],
   "source": [
    "gkf = GroupKFold(n_splits=5)\n",
    "for train_index, test_index in gkf.split(X, y, groups):\n",
    "    print(train_index, test_index)\n",
    "    "
   ]
  },
  {
   "cell_type": "code",
   "execution_count": 30,
   "id": "1bab9f64-7318-4bff-b675-2588569c8939",
   "metadata": {
    "id": "X3fEUZ7QYc3A"
   },
   "outputs": [],
   "source": [
    "data_set_train = data_set.iloc[train_index]\n",
    "data_set_test = data_set.drop(columns='cluster#').iloc[test_index]"
   ]
  },
  {
   "cell_type": "code",
   "execution_count": 31,
   "id": "240a04e7-e09e-4882-97c9-d1abfe720c24",
   "metadata": {
    "id": "Oza0NSxJYc3C"
   },
   "outputs": [],
   "source": [
    "groups = data_set_train['cluster#']"
   ]
  },
  {
   "cell_type": "code",
   "execution_count": 32,
   "id": "ecd02d5e-0720-4b12-9aa7-73322959fc42",
   "metadata": {},
   "outputs": [
    {
     "data": {
      "text/plain": [
       "((5338, 448), (1334, 447), (5338,))"
      ]
     },
     "execution_count": 32,
     "metadata": {},
     "output_type": "execute_result"
    }
   ],
   "source": [
    "data_set_train.shape, data_set_test.shape, groups.shape"
   ]
  },
  {
   "cell_type": "code",
   "execution_count": 33,
   "id": "b9f1d701-1a11-4fed-ac10-d52125b97fd4",
   "metadata": {},
   "outputs": [],
   "source": [
    "data_set_train = data_set_train.drop(columns='cluster#')\n",
    "data_set_train.to_csv(\"protherm_train.csv\")"
   ]
  },
  {
   "cell_type": "code",
   "execution_count": 34,
   "id": "a1f833ee-219c-4e72-96a4-f95f0bd43c30",
   "metadata": {},
   "outputs": [],
   "source": [
    "data_set_test.to_csv(\"protherm_test.csv\")"
   ]
  },
  {
   "cell_type": "code",
   "execution_count": 35,
   "id": "5bba3b3c-ead7-4c4c-9a39-4b9657e02253",
   "metadata": {},
   "outputs": [],
   "source": [
    "groups.to_csv(\"protherm_groups.csv\")"
   ]
  },
  {
   "cell_type": "code",
   "execution_count": null,
   "id": "4dc9c4b9-50c5-4f51-a52a-a932d16171c1",
   "metadata": {},
   "outputs": [],
   "source": []
  }
 ],
 "metadata": {
  "kernelspec": {
   "display_name": "Python 3 (ipykernel)",
   "language": "python",
   "name": "python3"
  },
  "language_info": {
   "codemirror_mode": {
    "name": "ipython",
    "version": 3
   },
   "file_extension": ".py",
   "mimetype": "text/x-python",
   "name": "python",
   "nbconvert_exporter": "python",
   "pygments_lexer": "ipython3",
   "version": "3.10.8"
  }
 },
 "nbformat": 4,
 "nbformat_minor": 5
}
