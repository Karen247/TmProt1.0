{
 "cells": [
  {
   "cell_type": "code",
   "execution_count": 1,
   "id": "a39fd523-1366-4284-811d-184cac824c93",
   "metadata": {},
   "outputs": [],
   "source": [
    "random_state = 16"
   ]
  },
  {
   "cell_type": "markdown",
   "id": "68b717f4-de7e-41c3-9b48-0f0e05812afa",
   "metadata": {
    "id": "EIwcGufXdktp"
   },
   "source": [
    "## Imports"
   ]
  },
  {
   "cell_type": "code",
   "execution_count": 2,
   "id": "96612998-c5ca-40d3-8741-d583df2e162c",
   "metadata": {},
   "outputs": [
    {
     "name": "stdout",
     "output_type": "stream",
     "text": [
      "Requirement already satisfied: scikit-learn in /opt/conda/lib/python3.10/site-packages (1.2.2)\n",
      "Requirement already satisfied: xgboost in /opt/conda/lib/python3.10/site-packages (1.7.5)\n",
      "Requirement already satisfied: threadpoolctl>=2.0.0 in /opt/conda/lib/python3.10/site-packages (from scikit-learn) (3.1.0)\n",
      "Requirement already satisfied: joblib>=1.1.1 in /opt/conda/lib/python3.10/site-packages (from scikit-learn) (1.2.0)\n",
      "Requirement already satisfied: scipy>=1.3.2 in /opt/conda/lib/python3.10/site-packages (from scikit-learn) (1.10.1)\n",
      "Requirement already satisfied: numpy>=1.17.3 in /opt/conda/lib/python3.10/site-packages (from scikit-learn) (1.24.3)\n"
     ]
    }
   ],
   "source": [
    "!pip install scikit-learn xgboost "
   ]
  },
  {
   "cell_type": "code",
   "execution_count": 3,
   "id": "23468e32-d3b1-41fb-9318-461179b4b98b",
   "metadata": {},
   "outputs": [
    {
     "name": "stdout",
     "output_type": "stream",
     "text": [
      "Requirement already satisfied: pandas in /opt/conda/lib/python3.10/site-packages (2.0.1)\n",
      "Requirement already satisfied: numpy in /opt/conda/lib/python3.10/site-packages (1.24.3)\n",
      "Requirement already satisfied: seaborn in /opt/conda/lib/python3.10/site-packages (0.12.2)\n",
      "Requirement already satisfied: matplotlib in /opt/conda/lib/python3.10/site-packages (3.7.1)\n",
      "Requirement already satisfied: yellowbrick in /opt/conda/lib/python3.10/site-packages (1.5)\n",
      "Requirement already satisfied: scipy in /opt/conda/lib/python3.10/site-packages (1.10.1)\n",
      "Requirement already satisfied: tzdata>=2022.1 in /opt/conda/lib/python3.10/site-packages (from pandas) (2023.3)\n",
      "Requirement already satisfied: pytz>=2020.1 in /opt/conda/lib/python3.10/site-packages (from pandas) (2022.6)\n",
      "Requirement already satisfied: python-dateutil>=2.8.2 in /opt/conda/lib/python3.10/site-packages (from pandas) (2.8.2)\n",
      "Requirement already satisfied: kiwisolver>=1.0.1 in /opt/conda/lib/python3.10/site-packages (from matplotlib) (1.4.4)\n",
      "Requirement already satisfied: contourpy>=1.0.1 in /opt/conda/lib/python3.10/site-packages (from matplotlib) (1.0.7)\n",
      "Requirement already satisfied: pyparsing>=2.3.1 in /opt/conda/lib/python3.10/site-packages (from matplotlib) (3.0.9)\n",
      "Requirement already satisfied: fonttools>=4.22.0 in /opt/conda/lib/python3.10/site-packages (from matplotlib) (4.39.4)\n",
      "Requirement already satisfied: packaging>=20.0 in /opt/conda/lib/python3.10/site-packages (from matplotlib) (21.3)\n",
      "Requirement already satisfied: cycler>=0.10 in /opt/conda/lib/python3.10/site-packages (from matplotlib) (0.11.0)\n",
      "Requirement already satisfied: pillow>=6.2.0 in /opt/conda/lib/python3.10/site-packages (from matplotlib) (9.5.0)\n",
      "Requirement already satisfied: scikit-learn>=1.0.0 in /opt/conda/lib/python3.10/site-packages (from yellowbrick) (1.2.2)\n",
      "Requirement already satisfied: six>=1.5 in /opt/conda/lib/python3.10/site-packages (from python-dateutil>=2.8.2->pandas) (1.16.0)\n",
      "Requirement already satisfied: joblib>=1.1.1 in /opt/conda/lib/python3.10/site-packages (from scikit-learn>=1.0.0->yellowbrick) (1.2.0)\n",
      "Requirement already satisfied: threadpoolctl>=2.0.0 in /opt/conda/lib/python3.10/site-packages (from scikit-learn>=1.0.0->yellowbrick) (3.1.0)\n"
     ]
    }
   ],
   "source": [
    "!pip install pandas numpy seaborn matplotlib yellowbrick scipy"
   ]
  },
  {
   "cell_type": "code",
   "execution_count": 4,
   "id": "f13bdef2-9c20-4473-929e-c210d35c9813",
   "metadata": {
    "id": "JhVnKJYfYc2o",
    "pycharm": {
     "name": "#%%\n"
    }
   },
   "outputs": [],
   "source": [
    "#imports\n",
    "from scipy.stats import uniform as sp_randFloat\n",
    "from scipy.stats import randint as sp_randInt    \n",
    "from sklearn.model_selection import RandomizedSearchCV\n",
    "from sklearn.feature_selection import RFE, RFECV\n",
    "from sklearn.model_selection import cross_val_score\n",
    "from sklearn.model_selection import GroupKFold\n",
    "from scipy.stats import pearsonr\n",
    "from sklearn.model_selection import train_test_split\n",
    "from sklearn.model_selection import GridSearchCV\n",
    "from sklearn.metrics import r2_score, mean_squared_error\n",
    "from sklearn.tree import DecisionTreeRegressor\n",
    "import pandas as pd\n",
    "from sklearn.neighbors import KNeighborsRegressor\n",
    "import matplotlib.pyplot as plt\n",
    "import numpy as np\n",
    "import seaborn as sns\n",
    "from sklearn.linear_model import ElasticNet\n",
    "from sklearn.neural_network import MLPRegressor\n",
    "from sklearn.pipeline import make_pipeline\n",
    "import xgboost as xgb\n",
    "from xgboost import XGBRegressor\n",
    "from sklearn.preprocessing import StandardScaler, MinMaxScaler\n",
    "import matplotlib.pyplot as plt\n",
    "from yellowbrick.regressor import PredictionError, ResidualsPlot\n",
    "from yellowbrick.style import set_palette\n",
    "from yellowbrick.style import rcmod\n",
    "from sklearn.feature_selection import SelectFromModel"
   ]
  },
  {
   "cell_type": "markdown",
   "id": "d8ede5ff-4f6c-4afe-a161-9e4b5f589dcf",
   "metadata": {
    "id": "Jrvq_ArEdwjp"
   },
   "source": [
    "## Data Preprocessing"
   ]
  },
  {
   "cell_type": "code",
   "execution_count": 5,
   "id": "a99a160a-e945-4d72-be61-64ea727512a1",
   "metadata": {},
   "outputs": [
    {
     "name": "stdout",
     "output_type": "stream",
     "text": [
      "clusters2.csv\t       esm_p2_xgb.txt\t\tmlp_1.png\n",
      "DTC_esm_P1.png\t       esm_pipeline_1.ipynb\tmlp_2.png\n",
      "DTC_esm_P2.png\t       esm_pipeline_2.ipynb\tmlp_esm_1.png\n",
      "EN_esm_P2.png\t       esm_preprocessing.ipynb\tmlp_esm_2.png\n",
      "en_esm.png\t       esm_protherm_1280.csv\tpreprocessing.ipynb\n",
      "esm_complete_1280.csv  esm_test_1280.csv\tprotherm_deep_physchem.csv\n",
      "esm_complete.csv       esm_test.csv\t\tprotherm.xlsx\n",
      "esm_features.csv       esm_train_1280.csv\tzero_features_1280.csv\n",
      "esm_groups_1280.csv    esm_train.csv\t\tzero_features_esm.csv\n",
      "esm_groups.csv\t       KNN_esm_P1.png\n",
      "esm_p1_xgb.txt\t       KNN_esm_P2.png\n"
     ]
    }
   ],
   "source": [
    "!ls"
   ]
  },
  {
   "cell_type": "code",
   "execution_count": 7,
   "id": "b8fc3d10-26c1-419c-97e1-d884ada46045",
   "metadata": {},
   "outputs": [
    {
     "data": {
      "text/html": [
       "<div>\n",
       "<style scoped>\n",
       "    .dataframe tbody tr th:only-of-type {\n",
       "        vertical-align: middle;\n",
       "    }\n",
       "\n",
       "    .dataframe tbody tr th {\n",
       "        vertical-align: top;\n",
       "    }\n",
       "\n",
       "    .dataframe thead th {\n",
       "        text-align: right;\n",
       "    }\n",
       "</style>\n",
       "<table border=\"1\" class=\"dataframe\">\n",
       "  <thead>\n",
       "    <tr style=\"text-align: right;\">\n",
       "      <th></th>\n",
       "      <th>Protein_ID</th>\n",
       "      <th>Tm_C</th>\n",
       "      <th>0</th>\n",
       "      <th>1</th>\n",
       "      <th>2</th>\n",
       "      <th>3</th>\n",
       "      <th>4</th>\n",
       "      <th>5</th>\n",
       "      <th>6</th>\n",
       "      <th>7</th>\n",
       "      <th>...</th>\n",
       "      <th>1270</th>\n",
       "      <th>1271</th>\n",
       "      <th>1272</th>\n",
       "      <th>1273</th>\n",
       "      <th>1274</th>\n",
       "      <th>1275</th>\n",
       "      <th>1276</th>\n",
       "      <th>1277</th>\n",
       "      <th>1278</th>\n",
       "      <th>1279</th>\n",
       "    </tr>\n",
       "  </thead>\n",
       "  <tbody>\n",
       "    <tr>\n",
       "      <th>0</th>\n",
       "      <td>P00350</td>\n",
       "      <td>57.83</td>\n",
       "      <td>0.061456</td>\n",
       "      <td>-0.018783</td>\n",
       "      <td>-0.010231</td>\n",
       "      <td>0.061477</td>\n",
       "      <td>-0.026708</td>\n",
       "      <td>-0.001284</td>\n",
       "      <td>0.066149</td>\n",
       "      <td>-0.251243</td>\n",
       "      <td>...</td>\n",
       "      <td>0.003973</td>\n",
       "      <td>-0.101666</td>\n",
       "      <td>-0.036435</td>\n",
       "      <td>-0.049548</td>\n",
       "      <td>-0.001934</td>\n",
       "      <td>0.003177</td>\n",
       "      <td>0.043629</td>\n",
       "      <td>-0.133913</td>\n",
       "      <td>0.007773</td>\n",
       "      <td>0.049505</td>\n",
       "    </tr>\n",
       "    <tr>\n",
       "      <th>1</th>\n",
       "      <td>P00363</td>\n",
       "      <td>46.77</td>\n",
       "      <td>0.034969</td>\n",
       "      <td>0.042067</td>\n",
       "      <td>0.013021</td>\n",
       "      <td>-0.032451</td>\n",
       "      <td>-0.087499</td>\n",
       "      <td>-0.042588</td>\n",
       "      <td>0.037960</td>\n",
       "      <td>-0.183190</td>\n",
       "      <td>...</td>\n",
       "      <td>-0.032316</td>\n",
       "      <td>-0.082484</td>\n",
       "      <td>-0.027231</td>\n",
       "      <td>-0.032674</td>\n",
       "      <td>-0.032110</td>\n",
       "      <td>0.050828</td>\n",
       "      <td>0.059285</td>\n",
       "      <td>-0.132150</td>\n",
       "      <td>0.012745</td>\n",
       "      <td>0.077547</td>\n",
       "    </tr>\n",
       "    <tr>\n",
       "      <th>2</th>\n",
       "      <td>P00370</td>\n",
       "      <td>58.78</td>\n",
       "      <td>0.053757</td>\n",
       "      <td>-0.021765</td>\n",
       "      <td>-0.029727</td>\n",
       "      <td>0.024891</td>\n",
       "      <td>-0.024003</td>\n",
       "      <td>-0.017309</td>\n",
       "      <td>0.041215</td>\n",
       "      <td>-0.213883</td>\n",
       "      <td>...</td>\n",
       "      <td>-0.009158</td>\n",
       "      <td>-0.060221</td>\n",
       "      <td>-0.066123</td>\n",
       "      <td>-0.024452</td>\n",
       "      <td>0.011502</td>\n",
       "      <td>0.016854</td>\n",
       "      <td>0.007332</td>\n",
       "      <td>-0.101124</td>\n",
       "      <td>-0.010835</td>\n",
       "      <td>0.105137</td>\n",
       "    </tr>\n",
       "    <tr>\n",
       "      <th>3</th>\n",
       "      <td>P00448</td>\n",
       "      <td>66.59</td>\n",
       "      <td>-0.026329</td>\n",
       "      <td>-0.123985</td>\n",
       "      <td>-0.002493</td>\n",
       "      <td>0.070453</td>\n",
       "      <td>-0.023620</td>\n",
       "      <td>-0.072184</td>\n",
       "      <td>0.017002</td>\n",
       "      <td>-0.184937</td>\n",
       "      <td>...</td>\n",
       "      <td>0.020440</td>\n",
       "      <td>-0.048012</td>\n",
       "      <td>-0.023534</td>\n",
       "      <td>0.022797</td>\n",
       "      <td>-0.054544</td>\n",
       "      <td>-0.051367</td>\n",
       "      <td>0.041085</td>\n",
       "      <td>-0.204482</td>\n",
       "      <td>-0.001493</td>\n",
       "      <td>0.067742</td>\n",
       "    </tr>\n",
       "    <tr>\n",
       "      <th>4</th>\n",
       "      <td>P00452</td>\n",
       "      <td>44.79</td>\n",
       "      <td>-0.030523</td>\n",
       "      <td>-0.028832</td>\n",
       "      <td>0.017711</td>\n",
       "      <td>0.119092</td>\n",
       "      <td>-0.099517</td>\n",
       "      <td>0.040022</td>\n",
       "      <td>0.028322</td>\n",
       "      <td>-0.127345</td>\n",
       "      <td>...</td>\n",
       "      <td>0.140361</td>\n",
       "      <td>-0.007807</td>\n",
       "      <td>-0.133724</td>\n",
       "      <td>0.026237</td>\n",
       "      <td>-0.004347</td>\n",
       "      <td>0.040577</td>\n",
       "      <td>-0.003302</td>\n",
       "      <td>-0.161196</td>\n",
       "      <td>-0.032264</td>\n",
       "      <td>0.173568</td>\n",
       "    </tr>\n",
       "  </tbody>\n",
       "</table>\n",
       "<p>5 rows × 1282 columns</p>\n",
       "</div>"
      ],
      "text/plain": [
       "  Protein_ID   Tm_C         0         1         2         3         4   \n",
       "0     P00350  57.83  0.061456 -0.018783 -0.010231  0.061477 -0.026708  \\\n",
       "1     P00363  46.77  0.034969  0.042067  0.013021 -0.032451 -0.087499   \n",
       "2     P00370  58.78  0.053757 -0.021765 -0.029727  0.024891 -0.024003   \n",
       "3     P00448  66.59 -0.026329 -0.123985 -0.002493  0.070453 -0.023620   \n",
       "4     P00452  44.79 -0.030523 -0.028832  0.017711  0.119092 -0.099517   \n",
       "\n",
       "          5         6         7  ...      1270      1271      1272      1273   \n",
       "0 -0.001284  0.066149 -0.251243  ...  0.003973 -0.101666 -0.036435 -0.049548  \\\n",
       "1 -0.042588  0.037960 -0.183190  ... -0.032316 -0.082484 -0.027231 -0.032674   \n",
       "2 -0.017309  0.041215 -0.213883  ... -0.009158 -0.060221 -0.066123 -0.024452   \n",
       "3 -0.072184  0.017002 -0.184937  ...  0.020440 -0.048012 -0.023534  0.022797   \n",
       "4  0.040022  0.028322 -0.127345  ...  0.140361 -0.007807 -0.133724  0.026237   \n",
       "\n",
       "       1274      1275      1276      1277      1278      1279  \n",
       "0 -0.001934  0.003177  0.043629 -0.133913  0.007773  0.049505  \n",
       "1 -0.032110  0.050828  0.059285 -0.132150  0.012745  0.077547  \n",
       "2  0.011502  0.016854  0.007332 -0.101124 -0.010835  0.105137  \n",
       "3 -0.054544 -0.051367  0.041085 -0.204482 -0.001493  0.067742  \n",
       "4 -0.004347  0.040577 -0.003302 -0.161196 -0.032264  0.173568  \n",
       "\n",
       "[5 rows x 1282 columns]"
      ]
     },
     "execution_count": 7,
     "metadata": {},
     "output_type": "execute_result"
    }
   ],
   "source": [
    "data = pd.read_csv(\"esm_complete_1280.csv\")\n",
    "data.head()"
   ]
  },
  {
   "cell_type": "code",
   "execution_count": 8,
   "id": "da4a1476-e725-49c4-830b-469a862d122e",
   "metadata": {},
   "outputs": [
    {
     "data": {
      "text/plain": [
       "(6672, 1282)"
      ]
     },
     "execution_count": 8,
     "metadata": {},
     "output_type": "execute_result"
    }
   ],
   "source": [
    "data.shape"
   ]
  },
  {
   "cell_type": "code",
   "execution_count": 9,
   "id": "3fbd4cdd-5e56-480e-9ead-cec00657a1c4",
   "metadata": {},
   "outputs": [
    {
     "data": {
      "text/plain": [
       "(6672, 1282)"
      ]
     },
     "execution_count": 9,
     "metadata": {},
     "output_type": "execute_result"
    }
   ],
   "source": [
    "data = data[data['Tm_C'] != 0]\n",
    "data.shape"
   ]
  },
  {
   "cell_type": "code",
   "execution_count": 10,
   "id": "0d8d2df6-10f0-4813-bb57-25603c332f85",
   "metadata": {},
   "outputs": [],
   "source": [
    "data = data.reset_index(drop = True)"
   ]
  },
  {
   "cell_type": "markdown",
   "id": "5a3d68ab-9c4a-4223-a766-421cf2267e0f",
   "metadata": {},
   "source": [
    "## Clustering"
   ]
  },
  {
   "cell_type": "code",
   "execution_count": 11,
   "id": "1e59df04-3efe-429a-b4c5-9e8162f75bce",
   "metadata": {},
   "outputs": [
    {
     "data": {
      "text/html": [
       "<div>\n",
       "<style scoped>\n",
       "    .dataframe tbody tr th:only-of-type {\n",
       "        vertical-align: middle;\n",
       "    }\n",
       "\n",
       "    .dataframe tbody tr th {\n",
       "        vertical-align: top;\n",
       "    }\n",
       "\n",
       "    .dataframe thead th {\n",
       "        text-align: right;\n",
       "    }\n",
       "</style>\n",
       "<table border=\"1\" class=\"dataframe\">\n",
       "  <thead>\n",
       "    <tr style=\"text-align: right;\">\n",
       "      <th></th>\n",
       "      <th>cluster#</th>\n",
       "      <th>Protein_ID</th>\n",
       "    </tr>\n",
       "  </thead>\n",
       "  <tbody>\n",
       "    <tr>\n",
       "      <th>0</th>\n",
       "      <td>0</td>\n",
       "      <td>P00363</td>\n",
       "    </tr>\n",
       "    <tr>\n",
       "      <th>1</th>\n",
       "      <td>1</td>\n",
       "      <td>P00370</td>\n",
       "    </tr>\n",
       "    <tr>\n",
       "      <th>2</th>\n",
       "      <td>2</td>\n",
       "      <td>P00509</td>\n",
       "    </tr>\n",
       "    <tr>\n",
       "      <th>3</th>\n",
       "      <td>3</td>\n",
       "      <td>P00582</td>\n",
       "    </tr>\n",
       "    <tr>\n",
       "      <th>4</th>\n",
       "      <td>4</td>\n",
       "      <td>P00634</td>\n",
       "    </tr>\n",
       "  </tbody>\n",
       "</table>\n",
       "</div>"
      ],
      "text/plain": [
       "   cluster# Protein_ID\n",
       "0         0     P00363\n",
       "1         1     P00370\n",
       "2         2     P00509\n",
       "3         3     P00582\n",
       "4         4     P00634"
      ]
     },
     "execution_count": 11,
     "metadata": {},
     "output_type": "execute_result"
    }
   ],
   "source": [
    "clusters = pd.read_csv('clusters2.csv', index_col = 0)\n",
    "clusters.head()"
   ]
  },
  {
   "cell_type": "code",
   "execution_count": 12,
   "id": "27ceb48b-eb97-4d09-8b8f-77720adf43b8",
   "metadata": {},
   "outputs": [
    {
     "data": {
      "text/plain": [
       "((6672, 2), (6672, 1282))"
      ]
     },
     "execution_count": 12,
     "metadata": {},
     "output_type": "execute_result"
    }
   ],
   "source": [
    "clusters.shape, data.shape"
   ]
  },
  {
   "cell_type": "code",
   "execution_count": 13,
   "id": "c646b24f-0aed-4089-9335-2557a23277b9",
   "metadata": {},
   "outputs": [
    {
     "data": {
      "text/plain": [
       "(6672, 1283)"
      ]
     },
     "execution_count": 13,
     "metadata": {},
     "output_type": "execute_result"
    }
   ],
   "source": [
    "data_set = pd.merge(data, clusters, on = 'Protein_ID')\n",
    "data_set.shape"
   ]
  },
  {
   "cell_type": "code",
   "execution_count": 14,
   "id": "9ae5e90a-ced6-4ef4-a8a1-9b45de16f826",
   "metadata": {},
   "outputs": [
    {
     "data": {
      "text/html": [
       "<div>\n",
       "<style scoped>\n",
       "    .dataframe tbody tr th:only-of-type {\n",
       "        vertical-align: middle;\n",
       "    }\n",
       "\n",
       "    .dataframe tbody tr th {\n",
       "        vertical-align: top;\n",
       "    }\n",
       "\n",
       "    .dataframe thead th {\n",
       "        text-align: right;\n",
       "    }\n",
       "</style>\n",
       "<table border=\"1\" class=\"dataframe\">\n",
       "  <thead>\n",
       "    <tr style=\"text-align: right;\">\n",
       "      <th></th>\n",
       "      <th>Protein_ID</th>\n",
       "      <th>Tm_C</th>\n",
       "      <th>0</th>\n",
       "      <th>1</th>\n",
       "      <th>2</th>\n",
       "      <th>3</th>\n",
       "      <th>4</th>\n",
       "      <th>5</th>\n",
       "      <th>6</th>\n",
       "      <th>7</th>\n",
       "      <th>...</th>\n",
       "      <th>1271</th>\n",
       "      <th>1272</th>\n",
       "      <th>1273</th>\n",
       "      <th>1274</th>\n",
       "      <th>1275</th>\n",
       "      <th>1276</th>\n",
       "      <th>1277</th>\n",
       "      <th>1278</th>\n",
       "      <th>1279</th>\n",
       "      <th>cluster#</th>\n",
       "    </tr>\n",
       "  </thead>\n",
       "  <tbody>\n",
       "    <tr>\n",
       "      <th>0</th>\n",
       "      <td>P00350</td>\n",
       "      <td>57.83</td>\n",
       "      <td>0.061456</td>\n",
       "      <td>-0.018783</td>\n",
       "      <td>-0.010231</td>\n",
       "      <td>0.061477</td>\n",
       "      <td>-0.026708</td>\n",
       "      <td>-0.001284</td>\n",
       "      <td>0.066149</td>\n",
       "      <td>-0.251243</td>\n",
       "      <td>...</td>\n",
       "      <td>-0.101666</td>\n",
       "      <td>-0.036435</td>\n",
       "      <td>-0.049548</td>\n",
       "      <td>-0.001934</td>\n",
       "      <td>0.003177</td>\n",
       "      <td>0.043629</td>\n",
       "      <td>-0.133913</td>\n",
       "      <td>0.007773</td>\n",
       "      <td>0.049505</td>\n",
       "      <td>3092</td>\n",
       "    </tr>\n",
       "    <tr>\n",
       "      <th>1</th>\n",
       "      <td>P00363</td>\n",
       "      <td>46.77</td>\n",
       "      <td>0.034969</td>\n",
       "      <td>0.042067</td>\n",
       "      <td>0.013021</td>\n",
       "      <td>-0.032451</td>\n",
       "      <td>-0.087499</td>\n",
       "      <td>-0.042588</td>\n",
       "      <td>0.037960</td>\n",
       "      <td>-0.183190</td>\n",
       "      <td>...</td>\n",
       "      <td>-0.082484</td>\n",
       "      <td>-0.027231</td>\n",
       "      <td>-0.032674</td>\n",
       "      <td>-0.032110</td>\n",
       "      <td>0.050828</td>\n",
       "      <td>0.059285</td>\n",
       "      <td>-0.132150</td>\n",
       "      <td>0.012745</td>\n",
       "      <td>0.077547</td>\n",
       "      <td>0</td>\n",
       "    </tr>\n",
       "    <tr>\n",
       "      <th>2</th>\n",
       "      <td>P00370</td>\n",
       "      <td>58.78</td>\n",
       "      <td>0.053757</td>\n",
       "      <td>-0.021765</td>\n",
       "      <td>-0.029727</td>\n",
       "      <td>0.024891</td>\n",
       "      <td>-0.024003</td>\n",
       "      <td>-0.017309</td>\n",
       "      <td>0.041215</td>\n",
       "      <td>-0.213883</td>\n",
       "      <td>...</td>\n",
       "      <td>-0.060221</td>\n",
       "      <td>-0.066123</td>\n",
       "      <td>-0.024452</td>\n",
       "      <td>0.011502</td>\n",
       "      <td>0.016854</td>\n",
       "      <td>0.007332</td>\n",
       "      <td>-0.101124</td>\n",
       "      <td>-0.010835</td>\n",
       "      <td>0.105137</td>\n",
       "      <td>1</td>\n",
       "    </tr>\n",
       "    <tr>\n",
       "      <th>3</th>\n",
       "      <td>P00448</td>\n",
       "      <td>66.59</td>\n",
       "      <td>-0.026329</td>\n",
       "      <td>-0.123985</td>\n",
       "      <td>-0.002493</td>\n",
       "      <td>0.070453</td>\n",
       "      <td>-0.023620</td>\n",
       "      <td>-0.072184</td>\n",
       "      <td>0.017002</td>\n",
       "      <td>-0.184937</td>\n",
       "      <td>...</td>\n",
       "      <td>-0.048012</td>\n",
       "      <td>-0.023534</td>\n",
       "      <td>0.022797</td>\n",
       "      <td>-0.054544</td>\n",
       "      <td>-0.051367</td>\n",
       "      <td>0.041085</td>\n",
       "      <td>-0.204482</td>\n",
       "      <td>-0.001493</td>\n",
       "      <td>0.067742</td>\n",
       "      <td>734</td>\n",
       "    </tr>\n",
       "    <tr>\n",
       "      <th>4</th>\n",
       "      <td>P00452</td>\n",
       "      <td>44.79</td>\n",
       "      <td>-0.030523</td>\n",
       "      <td>-0.028832</td>\n",
       "      <td>0.017711</td>\n",
       "      <td>0.119092</td>\n",
       "      <td>-0.099517</td>\n",
       "      <td>0.040022</td>\n",
       "      <td>0.028322</td>\n",
       "      <td>-0.127345</td>\n",
       "      <td>...</td>\n",
       "      <td>-0.007807</td>\n",
       "      <td>-0.133724</td>\n",
       "      <td>0.026237</td>\n",
       "      <td>-0.004347</td>\n",
       "      <td>0.040577</td>\n",
       "      <td>-0.003302</td>\n",
       "      <td>-0.161196</td>\n",
       "      <td>-0.032264</td>\n",
       "      <td>0.173568</td>\n",
       "      <td>3093</td>\n",
       "    </tr>\n",
       "  </tbody>\n",
       "</table>\n",
       "<p>5 rows × 1283 columns</p>\n",
       "</div>"
      ],
      "text/plain": [
       "  Protein_ID   Tm_C         0         1         2         3         4   \n",
       "0     P00350  57.83  0.061456 -0.018783 -0.010231  0.061477 -0.026708  \\\n",
       "1     P00363  46.77  0.034969  0.042067  0.013021 -0.032451 -0.087499   \n",
       "2     P00370  58.78  0.053757 -0.021765 -0.029727  0.024891 -0.024003   \n",
       "3     P00448  66.59 -0.026329 -0.123985 -0.002493  0.070453 -0.023620   \n",
       "4     P00452  44.79 -0.030523 -0.028832  0.017711  0.119092 -0.099517   \n",
       "\n",
       "          5         6         7  ...      1271      1272      1273      1274   \n",
       "0 -0.001284  0.066149 -0.251243  ... -0.101666 -0.036435 -0.049548 -0.001934  \\\n",
       "1 -0.042588  0.037960 -0.183190  ... -0.082484 -0.027231 -0.032674 -0.032110   \n",
       "2 -0.017309  0.041215 -0.213883  ... -0.060221 -0.066123 -0.024452  0.011502   \n",
       "3 -0.072184  0.017002 -0.184937  ... -0.048012 -0.023534  0.022797 -0.054544   \n",
       "4  0.040022  0.028322 -0.127345  ... -0.007807 -0.133724  0.026237 -0.004347   \n",
       "\n",
       "       1275      1276      1277      1278      1279  cluster#  \n",
       "0  0.003177  0.043629 -0.133913  0.007773  0.049505      3092  \n",
       "1  0.050828  0.059285 -0.132150  0.012745  0.077547         0  \n",
       "2  0.016854  0.007332 -0.101124 -0.010835  0.105137         1  \n",
       "3 -0.051367  0.041085 -0.204482 -0.001493  0.067742       734  \n",
       "4  0.040577 -0.003302 -0.161196 -0.032264  0.173568      3093  \n",
       "\n",
       "[5 rows x 1283 columns]"
      ]
     },
     "execution_count": 14,
     "metadata": {},
     "output_type": "execute_result"
    }
   ],
   "source": [
    "data_set.head()"
   ]
  },
  {
   "cell_type": "code",
   "execution_count": 15,
   "id": "1e62d271-093a-441c-8102-1dd5b3f11fd7",
   "metadata": {},
   "outputs": [],
   "source": [
    "X = data_set.drop(columns=['Tm_C', 'cluster#'], axis=1).copy()\n",
    "y = data_set['Tm_C'].copy()\n",
    "groups = data_set['cluster#']"
   ]
  },
  {
   "cell_type": "code",
   "execution_count": 16,
   "id": "7df606fc-7a16-45b9-bd0c-3b9a910452d2",
   "metadata": {},
   "outputs": [
    {
     "name": "stdout",
     "output_type": "stream",
     "text": [
      "Total number of different clusters: 5778\n"
     ]
    }
   ],
   "source": [
    "groups = data_set['cluster#']\n",
    "print('Total number of different clusters: {}'.format(max(groups)))"
   ]
  },
  {
   "cell_type": "code",
   "execution_count": 17,
   "id": "8b832e1f-eb97-4600-97e1-f1616ac47073",
   "metadata": {
    "colab": {
     "base_uri": "https://localhost:8080/"
    },
    "id": "RF4jWDg_Yc3A",
    "outputId": "4ff08950-84dd-4e8c-b42d-c4644e921096"
   },
   "outputs": [
    {
     "name": "stdout",
     "output_type": "stream",
     "text": [
      "[   0    1    2 ... 6669 6670 6671] [   8   14   17 ... 6654 6661 6667]\n",
      "[   0    1    2 ... 6669 6670 6671] [   6    9   23 ... 6656 6662 6668]\n",
      "[   2    4    5 ... 6669 6670 6671] [   0    1    3 ... 6655 6657 6663]\n",
      "[   0    1    3 ... 6668 6669 6670] [   2    5    7 ... 6660 6664 6671]\n",
      "[   0    1    2 ... 6667 6668 6671] [   4   16   18 ... 6666 6669 6670]\n"
     ]
    }
   ],
   "source": [
    "gkf = GroupKFold(n_splits=5)\n",
    "for train_index, test_index in gkf.split(X, y, groups):\n",
    "    print(train_index, test_index)\n",
    "    "
   ]
  },
  {
   "cell_type": "code",
   "execution_count": 18,
   "id": "1bab9f64-7318-4bff-b675-2588569c8939",
   "metadata": {
    "id": "X3fEUZ7QYc3A"
   },
   "outputs": [],
   "source": [
    "data_set_train = data_set.iloc[train_index]\n",
    "data_set_test = data_set.drop(columns='cluster#').iloc[test_index]"
   ]
  },
  {
   "cell_type": "code",
   "execution_count": 19,
   "id": "0bbce609-8307-4bd3-98ca-2bd092a4c416",
   "metadata": {},
   "outputs": [],
   "source": [
    "groups = data_set_train['cluster#']"
   ]
  },
  {
   "cell_type": "code",
   "execution_count": 20,
   "id": "2387baa9-64bc-40a3-97bc-49cc1fb8a302",
   "metadata": {},
   "outputs": [
    {
     "data": {
      "text/plain": [
       "((5338, 1283), (1334, 1282), (5338,))"
      ]
     },
     "execution_count": 20,
     "metadata": {},
     "output_type": "execute_result"
    }
   ],
   "source": [
    "data_set_train.shape, data_set_test.shape, groups.shape"
   ]
  },
  {
   "cell_type": "code",
   "execution_count": 21,
   "id": "8db131b5-5aed-4854-adfa-779f5368633c",
   "metadata": {},
   "outputs": [],
   "source": [
    "data_set_train = data_set_train.drop(columns='cluster#')\n",
    "data_set_train.to_csv(\"esm_train_1280.csv\")"
   ]
  },
  {
   "cell_type": "code",
   "execution_count": 22,
   "id": "cfecf858-5b19-47f1-bbd9-ba498a5643aa",
   "metadata": {},
   "outputs": [],
   "source": [
    "data_set_test.to_csv(\"esm_test_1280.csv\")"
   ]
  },
  {
   "cell_type": "code",
   "execution_count": 23,
   "id": "a531e714-4e10-412c-acb8-fd9b0782f91b",
   "metadata": {},
   "outputs": [],
   "source": [
    "groups.to_csv(\"esm_groups_1280.csv\")"
   ]
  }
 ],
 "metadata": {
  "kernelspec": {
   "display_name": "Python 3 (ipykernel)",
   "language": "python",
   "name": "python3"
  },
  "language_info": {
   "codemirror_mode": {
    "name": "ipython",
    "version": 3
   },
   "file_extension": ".py",
   "mimetype": "text/x-python",
   "name": "python",
   "nbconvert_exporter": "python",
   "pygments_lexer": "ipython3",
   "version": "3.10.8"
  }
 },
 "nbformat": 4,
 "nbformat_minor": 5
}
